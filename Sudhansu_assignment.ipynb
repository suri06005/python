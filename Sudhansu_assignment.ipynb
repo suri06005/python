{
 "cells": [
  {
   "cell_type": "code",
   "execution_count": 110,
   "id": "51e75672",
   "metadata": {},
   "outputs": [
    {
     "name": "stdout",
     "output_type": "stream",
     "text": [
      "  *\n",
      " * * \n",
      "* * *\n",
      " * *\n",
      "  *\n"
     ]
    }
   ],
   "source": [
    "n = 5\n",
    "m = 5\n",
    "count = 0\n",
    "for i in range(n):\n",
    "    #print(i)\n",
    "    for j in range(m) :\n",
    "        if i == 0 and j == 2 and count == 0:\n",
    "            print(\"*\")\n",
    "            count = count +1\n",
    "            break\n",
    "        elif i == 1 and j == 1 and count == 1:\n",
    "            print(\"* * \")\n",
    "            count = count +1\n",
    "            break\n",
    "        elif i == 2 and j == 0 and count == 2:\n",
    "            print(\"* * *\")\n",
    "            count = count +1\n",
    "            break\n",
    "        elif i == 3 and j == 1 and count == 3:\n",
    "            print(\"* *\")\n",
    "            count = count +1\n",
    "            break\n",
    "        elif i == 4 and j == 2 and count == 4:\n",
    "            print(\"*\")\n",
    "            count = count +1\n",
    "            break\n",
    "        else :\n",
    "            print(\" \", end = \"\")\n",
    "        #print(\"\")\n",
    "    #print(\"\")"
   ]
  },
  {
   "cell_type": "code",
   "execution_count": 174,
   "id": "6aa64cb8",
   "metadata": {},
   "outputs": [
    {
     "name": "stdout",
     "output_type": "stream",
     "text": [
      "\n",
      "  *  \n",
      " * * \n",
      "* * *\n",
      " * * \n",
      "  *\n",
      "  "
     ]
    }
   ],
   "source": [
    "for i in range(5):\n",
    "    print(\"\")\n",
    "    for j in range(5):\n",
    "        if i == 0 and j == 2:\n",
    "            print(\"*\", end = \"\")\n",
    "        elif (i == 1 and j == 1) or (i == 1 and j == 3):\n",
    "            print(\"*\", end = \"\")\n",
    "        elif (i == 2 and j == 0) or (i ==2 and j == 2) or (i == 2 and j == 4):\n",
    "            print(\"*\",end = \"\")\n",
    "        elif (i == 3 and j == 1) or (i == 3 and j ==3):\n",
    "            print(\"*\",end = \"\")\n",
    "        elif (i == 4 and j == 2):\n",
    "            print(\"*\")\n",
    "        else:\n",
    "            print(\" \", end=\"\")\n",
    "            "
   ]
  },
  {
   "cell_type": "code",
   "execution_count": 127,
   "id": "b77d58a8",
   "metadata": {},
   "outputs": [
    {
     "name": "stdout",
     "output_type": "stream",
     "text": [
      "Pattern 1\n",
      "  *\n",
      " ***\n",
      "*****\n",
      " ***\n",
      "  *\n"
     ]
    }
   ],
   "source": [
    "#copy code\n",
    "n = 5\n",
    "print(\"Pattern 1\")\n",
    "for a1 in range(1, (n+1)//2 + 1): #from row 1 to 5\n",
    "    for a2 in range((n+1)//2 - a1):\n",
    "        print(\" \", end = \"\")\n",
    "    for a3 in range((a1*2)-1):\n",
    "        print(\"*\", end = \"\")\n",
    "    print()\n",
    "\n",
    "for a1 in range((n+1)//2 + 1, n + 1): #from row 6 to 9\n",
    "    for a2 in range(a1 - (n+1)//2):\n",
    "        print(\" \", end = \"\")\n",
    "    for a3 in range((n+1 - a1)*2 - 1):\n",
    "        print(\"*\", end = \"\")\n",
    "    print()"
   ]
  },
  {
   "cell_type": "code",
   "execution_count": 172,
   "id": "a820ac56",
   "metadata": {},
   "outputs": [
    {
     "name": "stdout",
     "output_type": "stream",
     "text": [
      "List1:[1, 1, 2, 2, 3, 5]\n",
      "1-->2\n",
      "1-->2\n",
      "2-->2\n",
      "2-->2\n",
      "List2:[2, 4, 2, 2, 5]\n",
      "2-->3\n",
      "2-->3\n",
      "2-->3\n",
      "List3:[1, 5, 8, 8, 2]\n",
      "8-->2\n",
      "8-->2\n"
     ]
    }
   ],
   "source": [
    "ls =[[1,1,2,2,3,5],[2,4,2,2,5],[1,5,8,8,2]]\n",
    "ls_cnt = 0\n",
    "for i in ls:\n",
    "    ls_cnt = ls_cnt + 1\n",
    "    print(\"List\" + str(ls_cnt)+\":\", end=\"\")\n",
    "    print(i)\n",
    "    for l in i:\n",
    "        cnt = 0\n",
    "        n_cnt = 1\n",
    "        num = 0\n",
    "        for j in i:\n",
    "            #print(l)\n",
    "            #print(j)\n",
    "            if l == j and cnt == 0:\n",
    "                cnt = cnt + 1\n",
    "                #print(\"cnt\"+str(cnt))\n",
    "            elif l == j and cnt != 0:\n",
    "                #print(\"match\")\n",
    "                num = l\n",
    "                n_cnt = n_cnt + 1\n",
    "        #print(\"1st for loop end\")\n",
    "                \n",
    "        if num != 0:\n",
    "            print(num, end = \"\")\n",
    "            print(\"-->\", end = \"\")\n",
    "            print(n_cnt)\n",
    "    #print(\"2nd for loop end\")\n",
    "                \n"
   ]
  },
  {
   "cell_type": "code",
   "execution_count": null,
   "id": "5ab5844a",
   "metadata": {},
   "outputs": [],
   "source": []
  }
 ],
 "metadata": {
  "kernelspec": {
   "display_name": "Python 3",
   "language": "python",
   "name": "python3"
  },
  "language_info": {
   "codemirror_mode": {
    "name": "ipython",
    "version": 3
   },
   "file_extension": ".py",
   "mimetype": "text/x-python",
   "name": "python",
   "nbconvert_exporter": "python",
   "pygments_lexer": "ipython3",
   "version": "3.8.8"
  }
 },
 "nbformat": 4,
 "nbformat_minor": 5
}
