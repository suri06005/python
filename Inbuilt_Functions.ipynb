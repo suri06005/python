{
 "cells": [
  {
   "cell_type": "code",
   "execution_count": 1,
   "id": "dd279e46",
   "metadata": {},
   "outputs": [],
   "source": [
    "#default functions"
   ]
  },
  {
   "cell_type": "code",
   "execution_count": 2,
   "id": "0b66d297",
   "metadata": {},
   "outputs": [
    {
     "name": "stdout",
     "output_type": "stream",
     "text": [
      "suresh\n"
     ]
    },
    {
     "data": {
      "text/plain": [
       "6"
      ]
     },
     "execution_count": 2,
     "metadata": {},
     "output_type": "execute_result"
    }
   ],
   "source": [
    "i = \"suresh\"\n",
    "len(i)"
   ]
  },
  {
   "cell_type": "code",
   "execution_count": 5,
   "id": "748ab61e",
   "metadata": {},
   "outputs": [
    {
     "data": {
      "text/plain": [
       "0"
      ]
     },
     "execution_count": 5,
     "metadata": {},
     "output_type": "execute_result"
    }
   ],
   "source": [
    "i.find('s')"
   ]
  },
  {
   "cell_type": "code",
   "execution_count": 7,
   "id": "2ac3bf33",
   "metadata": {},
   "outputs": [
    {
     "data": {
      "text/plain": [
       "2"
      ]
     },
     "execution_count": 7,
     "metadata": {},
     "output_type": "execute_result"
    }
   ],
   "source": [
    "i.find(\"re\")"
   ]
  },
  {
   "cell_type": "code",
   "execution_count": 8,
   "id": "8e3bf583",
   "metadata": {},
   "outputs": [
    {
     "data": {
      "text/plain": [
       "3"
      ]
     },
     "execution_count": 8,
     "metadata": {},
     "output_type": "execute_result"
    }
   ],
   "source": [
    "i.find('es')"
   ]
  },
  {
   "cell_type": "code",
   "execution_count": 11,
   "id": "61d687e6",
   "metadata": {},
   "outputs": [
    {
     "data": {
      "text/plain": [
       "2"
      ]
     },
     "execution_count": 11,
     "metadata": {},
     "output_type": "execute_result"
    }
   ],
   "source": [
    "i.count(\"s\")"
   ]
  },
  {
   "cell_type": "code",
   "execution_count": 18,
   "id": "1e4b692c",
   "metadata": {},
   "outputs": [],
   "source": [
    "s = \"suresh BABU sirivella\""
   ]
  },
  {
   "cell_type": "code",
   "execution_count": 19,
   "id": "064531bf",
   "metadata": {},
   "outputs": [
    {
     "data": {
      "text/plain": [
       "['', 'ure', 'h BABU ', 'irivella']"
      ]
     },
     "execution_count": 19,
     "metadata": {},
     "output_type": "execute_result"
    }
   ],
   "source": [
    "s.split(\"s\")"
   ]
  },
  {
   "cell_type": "code",
   "execution_count": 20,
   "id": "1b94ec86",
   "metadata": {},
   "outputs": [
    {
     "data": {
      "text/plain": [
       "'SURESH BABU SIRIVELLA'"
      ]
     },
     "execution_count": 20,
     "metadata": {},
     "output_type": "execute_result"
    }
   ],
   "source": [
    "s.upper()"
   ]
  },
  {
   "cell_type": "code",
   "execution_count": 21,
   "id": "3fbd5574",
   "metadata": {},
   "outputs": [
    {
     "data": {
      "text/plain": [
       "'SURESH babu SIRIVELLA'"
      ]
     },
     "execution_count": 21,
     "metadata": {},
     "output_type": "execute_result"
    }
   ],
   "source": [
    "s.swapcase()"
   ]
  },
  {
   "cell_type": "code",
   "execution_count": 23,
   "id": "5c55ca9b",
   "metadata": {},
   "outputs": [
    {
     "data": {
      "text/plain": [
       "'Suresh babu sirivella'"
      ]
     },
     "execution_count": 23,
     "metadata": {},
     "output_type": "execute_result"
    }
   ],
   "source": [
    "s.capitalize()"
   ]
  },
  {
   "cell_type": "code",
   "execution_count": 26,
   "id": "7530c3eb",
   "metadata": {},
   "outputs": [
    {
     "data": {
      "text/plain": [
       "['e', 'l', 'p', 'm', 'a', 's']"
      ]
     },
     "execution_count": 26,
     "metadata": {},
     "output_type": "execute_result"
    }
   ],
   "source": [
    "f =\"sample\"\n",
    "list(reversed(f))"
   ]
  },
  {
   "cell_type": "code",
   "execution_count": 27,
   "id": "7592074c",
   "metadata": {},
   "outputs": [],
   "source": [
    "strip1=\"    shhhsffh      dsdfdfjl     \""
   ]
  },
  {
   "cell_type": "code",
   "execution_count": 29,
   "id": "d21494b1",
   "metadata": {},
   "outputs": [
    {
     "data": {
      "text/plain": [
       "'shhhsffh      dsdfdfjl'"
      ]
     },
     "execution_count": 29,
     "metadata": {},
     "output_type": "execute_result"
    }
   ],
   "source": [
    "strip1.strip()"
   ]
  },
  {
   "cell_type": "code",
   "execution_count": 30,
   "id": "33dd3048",
   "metadata": {},
   "outputs": [
    {
     "data": {
      "text/plain": [
       "'shhhsffh      dsdfdfjl     '"
      ]
     },
     "execution_count": 30,
     "metadata": {},
     "output_type": "execute_result"
    }
   ],
   "source": [
    "strip1.lstrip()"
   ]
  },
  {
   "cell_type": "code",
   "execution_count": 31,
   "id": "df072d2b",
   "metadata": {},
   "outputs": [
    {
     "data": {
      "text/plain": [
       "'    shhhsffh      dsdfdfjl'"
      ]
     },
     "execution_count": 31,
     "metadata": {},
     "output_type": "execute_result"
    }
   ],
   "source": [
    "strip1.rstrip()"
   ]
  },
  {
   "cell_type": "code",
   "execution_count": 34,
   "id": "582a37ef",
   "metadata": {},
   "outputs": [
    {
     "data": {
      "text/plain": [
       "'s$u$r$e$s$h'"
      ]
     },
     "execution_count": 34,
     "metadata": {},
     "output_type": "execute_result"
    }
   ],
   "source": [
    "\"$\".join(\"suresh\")"
   ]
  },
  {
   "cell_type": "code",
   "execution_count": 36,
   "id": "411ff83c",
   "metadata": {},
   "outputs": [],
   "source": [
    "p=\"suresh\""
   ]
  },
  {
   "cell_type": "code",
   "execution_count": 38,
   "id": "85d69446",
   "metadata": {},
   "outputs": [
    {
     "data": {
      "text/plain": [
       "'$ure$h'"
      ]
     },
     "execution_count": 38,
     "metadata": {},
     "output_type": "execute_result"
    }
   ],
   "source": [
    "p.replace(\"s\",\"$\")"
   ]
  },
  {
   "cell_type": "code",
   "execution_count": 39,
   "id": "fd5c4655",
   "metadata": {},
   "outputs": [
    {
     "data": {
      "text/plain": [
       "'suresh'"
      ]
     },
     "execution_count": 39,
     "metadata": {},
     "output_type": "execute_result"
    }
   ],
   "source": [
    "p"
   ]
  },
  {
   "cell_type": "code",
   "execution_count": 48,
   "id": "36c1d134",
   "metadata": {},
   "outputs": [
    {
     "data": {
      "text/plain": [
       "'sample'"
      ]
     },
     "execution_count": 48,
     "metadata": {},
     "output_type": "execute_result"
    }
   ],
   "source": [
    "p=\"sample\"\n",
    "p.center(5 , ' ')"
   ]
  },
  {
   "cell_type": "code",
   "execution_count": 49,
   "id": "be11a641",
   "metadata": {},
   "outputs": [],
   "source": [
    "s=\"sudh\""
   ]
  },
  {
   "cell_type": "code",
   "execution_count": 50,
   "id": "7e8e59f4",
   "metadata": {},
   "outputs": [
    {
     "data": {
      "text/plain": [
       "'        sudh        '"
      ]
     },
     "execution_count": 50,
     "metadata": {},
     "output_type": "execute_result"
    }
   ],
   "source": [
    "s.center(20,' ')"
   ]
  },
  {
   "cell_type": "code",
   "execution_count": 51,
   "id": "4d312398",
   "metadata": {},
   "outputs": [
    {
     "data": {
      "text/plain": [
       "True"
      ]
     },
     "execution_count": 51,
     "metadata": {},
     "output_type": "execute_result"
    }
   ],
   "source": [
    "s.islower()"
   ]
  },
  {
   "cell_type": "code",
   "execution_count": 52,
   "id": "a7a1857d",
   "metadata": {},
   "outputs": [
    {
     "data": {
      "text/plain": [
       "False"
      ]
     },
     "execution_count": 52,
     "metadata": {},
     "output_type": "execute_result"
    }
   ],
   "source": [
    "s.isdigit()"
   ]
  },
  {
   "cell_type": "code",
   "execution_count": 54,
   "id": "d921801c",
   "metadata": {},
   "outputs": [],
   "source": [
    "f=\"suresh babu sirivella\""
   ]
  },
  {
   "cell_type": "code",
   "execution_count": 55,
   "id": "3331dcfc",
   "metadata": {},
   "outputs": [
    {
     "data": {
      "text/plain": [
       "False"
      ]
     },
     "execution_count": 55,
     "metadata": {},
     "output_type": "execute_result"
    }
   ],
   "source": [
    "f.isspace()"
   ]
  },
  {
   "cell_type": "code",
   "execution_count": 60,
   "id": "b9daa744",
   "metadata": {},
   "outputs": [],
   "source": [
    "d=\" \""
   ]
  },
  {
   "cell_type": "code",
   "execution_count": 61,
   "id": "c0c97e33",
   "metadata": {},
   "outputs": [
    {
     "data": {
      "text/plain": [
       "True"
      ]
     },
     "execution_count": 61,
     "metadata": {},
     "output_type": "execute_result"
    }
   ],
   "source": [
    "d.isspace()"
   ]
  },
  {
   "cell_type": "code",
   "execution_count": 64,
   "id": "4db16527",
   "metadata": {},
   "outputs": [
    {
     "data": {
      "text/plain": [
       "True"
      ]
     },
     "execution_count": 64,
     "metadata": {},
     "output_type": "execute_result"
    }
   ],
   "source": [
    "f.endswith(\"lla\")"
   ]
  },
  {
   "cell_type": "code",
   "execution_count": 65,
   "id": "bc99a580",
   "metadata": {},
   "outputs": [
    {
     "data": {
      "text/plain": [
       "True"
      ]
     },
     "execution_count": 65,
     "metadata": {},
     "output_type": "execute_result"
    }
   ],
   "source": [
    "f.startswith(\"sur\")"
   ]
  },
  {
   "cell_type": "code",
   "execution_count": 66,
   "id": "c0311fb9",
   "metadata": {},
   "outputs": [],
   "source": [
    "s = \"sirievella\""
   ]
  },
  {
   "cell_type": "code",
   "execution_count": 69,
   "id": "39c7d849",
   "metadata": {},
   "outputs": [
    {
     "name": "stdout",
     "output_type": "stream",
     "text": [
      "a\n",
      "l\n",
      "l\n",
      "e\n",
      "v\n",
      "e\n",
      "i\n",
      "r\n",
      "i\n",
      "s\n"
     ]
    }
   ],
   "source": [
    "for i in reversed(s):\n",
    "    print(i)"
   ]
  },
  {
   "cell_type": "code",
   "execution_count": 73,
   "id": "5a825069",
   "metadata": {},
   "outputs": [
    {
     "name": "stdout",
     "output_type": "stream",
     "text": [
      "h\n",
      "s\n",
      "e\n",
      "r\n",
      "u\n",
      "s\n"
     ]
    }
   ],
   "source": [
    "s = \"suresh\"\n",
    "i = len(s) -1 \n",
    "while i >= 0:\n",
    "    print(s[i])\n",
    "    i = i - 1"
   ]
  },
  {
   "cell_type": "code",
   "execution_count": 74,
   "id": "ba132b98",
   "metadata": {},
   "outputs": [
    {
     "data": {
      "text/plain": [
       "'my name is suresh'"
      ]
     },
     "execution_count": 74,
     "metadata": {},
     "output_type": "execute_result"
    }
   ],
   "source": [
    "i = 'suresh'\n",
    "\"my name is {}\".format(i)"
   ]
  },
  {
   "cell_type": "code",
   "execution_count": 75,
   "id": "868b932f",
   "metadata": {},
   "outputs": [
    {
     "name": "stdout",
     "output_type": "stream",
     "text": [
      "suresh babu sirivella\n"
     ]
    },
    {
     "data": {
      "text/plain": [
       "'my name is suresh babu sirivella'"
      ]
     },
     "execution_count": 75,
     "metadata": {},
     "output_type": "execute_result"
    }
   ],
   "source": [
    "\"my name is {}\".format(input())"
   ]
  },
  {
   "cell_type": "code",
   "execution_count": 79,
   "id": "32346fbd",
   "metadata": {},
   "outputs": [
    {
     "name": "stdout",
     "output_type": "stream",
     "text": [
      "please enter your namesures\n",
      "please enter age25\n",
      "please enter ur job informationjdfdfj\n"
     ]
    },
    {
     "data": {
      "text/plain": [
       "'my name is sures\\n, age is 25\\n, wokring as jdfdfj'"
      ]
     },
     "execution_count": 79,
     "metadata": {},
     "output_type": "execute_result"
    }
   ],
   "source": [
    "name = input(\"please enter your name\")\n",
    "age =input(\"please enter age\")\n",
    "job = input(\"please enter ur job information\")\n",
    "\"my name is {}\\n, age is {}\\n, wokring as {}\".format(name,age,job)"
   ]
  },
  {
   "cell_type": "code",
   "execution_count": 81,
   "id": "31742d73",
   "metadata": {},
   "outputs": [],
   "source": [
    "l = [1,2,3,4,45,\"sirivella\",\"suresh\",'babu',20.9]"
   ]
  },
  {
   "cell_type": "code",
   "execution_count": 82,
   "id": "18ba1baf",
   "metadata": {},
   "outputs": [
    {
     "data": {
      "text/plain": [
       "True"
      ]
     },
     "execution_count": 82,
     "metadata": {},
     "output_type": "execute_result"
    }
   ],
   "source": [
    "\"babu\" in l"
   ]
  },
  {
   "cell_type": "code",
   "execution_count": 83,
   "id": "26a01468",
   "metadata": {},
   "outputs": [
    {
     "data": {
      "text/plain": [
       "False"
      ]
     },
     "execution_count": 83,
     "metadata": {},
     "output_type": "execute_result"
    }
   ],
   "source": [
    "455 in l"
   ]
  },
  {
   "cell_type": "code",
   "execution_count": 84,
   "id": "6cb4e845",
   "metadata": {},
   "outputs": [],
   "source": [
    "l.append(\"ramakrish\")"
   ]
  },
  {
   "cell_type": "code",
   "execution_count": 85,
   "id": "ab387647",
   "metadata": {},
   "outputs": [
    {
     "data": {
      "text/plain": [
       "[1, 2, 3, 4, 45, 'sirivella', 'suresh', 'babu', 20.9, 'ramakrish']"
      ]
     },
     "execution_count": 85,
     "metadata": {},
     "output_type": "execute_result"
    }
   ],
   "source": [
    "l"
   ]
  },
  {
   "cell_type": "code",
   "execution_count": 86,
   "id": "7bdd971c",
   "metadata": {},
   "outputs": [],
   "source": [
    "l.append([2,4,5,6])"
   ]
  },
  {
   "cell_type": "code",
   "execution_count": 87,
   "id": "634a07b1",
   "metadata": {},
   "outputs": [
    {
     "data": {
      "text/plain": [
       "[1,\n",
       " 2,\n",
       " 3,\n",
       " 4,\n",
       " 45,\n",
       " 'sirivella',\n",
       " 'suresh',\n",
       " 'babu',\n",
       " 20.9,\n",
       " 'ramakrish',\n",
       " [2, 4, 5, 6]]"
      ]
     },
     "execution_count": 87,
     "metadata": {},
     "output_type": "execute_result"
    }
   ],
   "source": [
    "l"
   ]
  },
  {
   "cell_type": "code",
   "execution_count": 89,
   "id": "9b11677f",
   "metadata": {},
   "outputs": [
    {
     "data": {
      "text/plain": [
       "[2, 4, 5, 6]"
      ]
     },
     "execution_count": 89,
     "metadata": {},
     "output_type": "execute_result"
    }
   ],
   "source": [
    "l.pop()"
   ]
  },
  {
   "cell_type": "code",
   "execution_count": 90,
   "id": "31cbc068",
   "metadata": {},
   "outputs": [
    {
     "data": {
      "text/plain": [
       "[1, 2, 3, 4, 45, 'sirivella', 'suresh', 'babu', 20.9, 'ramakrish']"
      ]
     },
     "execution_count": 90,
     "metadata": {},
     "output_type": "execute_result"
    }
   ],
   "source": [
    "l"
   ]
  },
  {
   "cell_type": "code",
   "execution_count": 91,
   "id": "3161043e",
   "metadata": {},
   "outputs": [
    {
     "data": {
      "text/plain": [
       "'ramakrish'"
      ]
     },
     "execution_count": 91,
     "metadata": {},
     "output_type": "execute_result"
    }
   ],
   "source": [
    "l.pop()"
   ]
  },
  {
   "cell_type": "code",
   "execution_count": 92,
   "id": "85b650d7",
   "metadata": {},
   "outputs": [
    {
     "data": {
      "text/plain": [
       "[1, 2, 3, 4, 45, 'sirivella', 'suresh', 'babu', 20.9]"
      ]
     },
     "execution_count": 92,
     "metadata": {},
     "output_type": "execute_result"
    }
   ],
   "source": [
    "l"
   ]
  },
  {
   "cell_type": "code",
   "execution_count": 93,
   "id": "aff89d06",
   "metadata": {},
   "outputs": [
    {
     "data": {
      "text/plain": [
       "'sirivella'"
      ]
     },
     "execution_count": 93,
     "metadata": {},
     "output_type": "execute_result"
    }
   ],
   "source": [
    "l.pop(5)"
   ]
  },
  {
   "cell_type": "code",
   "execution_count": 94,
   "id": "ae413eb7",
   "metadata": {},
   "outputs": [
    {
     "data": {
      "text/plain": [
       "[1, 2, 3, 4, 45, 'suresh', 'babu', 20.9]"
      ]
     },
     "execution_count": 94,
     "metadata": {},
     "output_type": "execute_result"
    }
   ],
   "source": [
    "l"
   ]
  },
  {
   "cell_type": "code",
   "execution_count": 95,
   "id": "6d14a60c",
   "metadata": {},
   "outputs": [],
   "source": [
    "l.reverse()"
   ]
  },
  {
   "cell_type": "code",
   "execution_count": 96,
   "id": "89861478",
   "metadata": {},
   "outputs": [
    {
     "data": {
      "text/plain": [
       "[20.9, 'babu', 'suresh', 45, 4, 3, 2, 1]"
      ]
     },
     "execution_count": 96,
     "metadata": {},
     "output_type": "execute_result"
    }
   ],
   "source": [
    "l"
   ]
  },
  {
   "cell_type": "code",
   "execution_count": 99,
   "id": "1881ea04",
   "metadata": {},
   "outputs": [],
   "source": [
    "l.insert(1,\"sirivella\")"
   ]
  },
  {
   "cell_type": "code",
   "execution_count": 100,
   "id": "fdd5fce7",
   "metadata": {},
   "outputs": [
    {
     "data": {
      "text/plain": [
       "[20.9, 'sirivella', 'babu', 'suresh', 45, 4, 3, 2, 1]"
      ]
     },
     "execution_count": 100,
     "metadata": {},
     "output_type": "execute_result"
    }
   ],
   "source": [
    "l"
   ]
  },
  {
   "cell_type": "code",
   "execution_count": 101,
   "id": "4d7ca5bd",
   "metadata": {},
   "outputs": [],
   "source": [
    "l.insert(20,\"end of file\")"
   ]
  },
  {
   "cell_type": "code",
   "execution_count": 102,
   "id": "b6c2699d",
   "metadata": {},
   "outputs": [
    {
     "data": {
      "text/plain": [
       "[20.9, 'sirivella', 'babu', 'suresh', 45, 4, 3, 2, 1, 'end of file']"
      ]
     },
     "execution_count": 102,
     "metadata": {},
     "output_type": "execute_result"
    }
   ],
   "source": [
    "l"
   ]
  },
  {
   "cell_type": "code",
   "execution_count": 105,
   "id": "f440bb98",
   "metadata": {},
   "outputs": [],
   "source": [
    "l.remove(3)"
   ]
  },
  {
   "cell_type": "code",
   "execution_count": 106,
   "id": "4b6c4d12",
   "metadata": {},
   "outputs": [
    {
     "data": {
      "text/plain": [
       "[20.9, 'sirivella', 'babu', 'suresh', 45, 4, 2, 1, 'end of file']"
      ]
     },
     "execution_count": 106,
     "metadata": {},
     "output_type": "execute_result"
    }
   ],
   "source": [
    "l"
   ]
  },
  {
   "cell_type": "code",
   "execution_count": 107,
   "id": "845d0572",
   "metadata": {},
   "outputs": [],
   "source": [
    "l.remove(\"babu\")"
   ]
  },
  {
   "cell_type": "code",
   "execution_count": 108,
   "id": "f1f0b1e4",
   "metadata": {},
   "outputs": [
    {
     "data": {
      "text/plain": [
       "[20.9, 'sirivella', 'suresh', 45, 4, 2, 1, 'end of file']"
      ]
     },
     "execution_count": 108,
     "metadata": {},
     "output_type": "execute_result"
    }
   ],
   "source": [
    "l"
   ]
  },
  {
   "cell_type": "code",
   "execution_count": 109,
   "id": "969fef65",
   "metadata": {},
   "outputs": [],
   "source": [
    "l1 =[1,2,3,45,6,\"babu\"]"
   ]
  },
  {
   "cell_type": "code",
   "execution_count": 110,
   "id": "52e7d6da",
   "metadata": {},
   "outputs": [
    {
     "data": {
      "text/plain": [
       "[20.9,\n",
       " 'sirivella',\n",
       " 'suresh',\n",
       " 45,\n",
       " 4,\n",
       " 2,\n",
       " 1,\n",
       " 'end of file',\n",
       " 1,\n",
       " 2,\n",
       " 3,\n",
       " 45,\n",
       " 6,\n",
       " 'babu']"
      ]
     },
     "execution_count": 110,
     "metadata": {},
     "output_type": "execute_result"
    }
   ],
   "source": [
    "l+l1"
   ]
  },
  {
   "cell_type": "code",
   "execution_count": 111,
   "id": "690bc08c",
   "metadata": {},
   "outputs": [],
   "source": [
    "l1.append(l)"
   ]
  },
  {
   "cell_type": "code",
   "execution_count": 113,
   "id": "4457b6d6",
   "metadata": {},
   "outputs": [
    {
     "data": {
      "text/plain": [
       "[1,\n",
       " 2,\n",
       " 3,\n",
       " 45,\n",
       " 6,\n",
       " 'babu',\n",
       " [20.9, 'sirivella', 'suresh', 45, 4, 2, 1, 'end of file']]"
      ]
     },
     "execution_count": 113,
     "metadata": {},
     "output_type": "execute_result"
    }
   ],
   "source": [
    "l1"
   ]
  },
  {
   "cell_type": "code",
   "execution_count": 114,
   "id": "8c676bba",
   "metadata": {},
   "outputs": [
    {
     "data": {
      "text/plain": [
       "[20.9, 'sirivella', 'suresh', 45, 4, 2, 1, 'end of file']"
      ]
     },
     "execution_count": 114,
     "metadata": {},
     "output_type": "execute_result"
    }
   ],
   "source": [
    "l"
   ]
  },
  {
   "cell_type": "code",
   "execution_count": 115,
   "id": "116a8c67",
   "metadata": {},
   "outputs": [],
   "source": [
    "l.insert(-1,l1)"
   ]
  },
  {
   "cell_type": "code",
   "execution_count": 116,
   "id": "b7a8e233",
   "metadata": {},
   "outputs": [
    {
     "data": {
      "text/plain": [
       "[20.9,\n",
       " 'sirivella',\n",
       " 'suresh',\n",
       " 45,\n",
       " 4,\n",
       " 2,\n",
       " 1,\n",
       " [1, 2, 3, 45, 6, 'babu', [...]],\n",
       " 'end of file']"
      ]
     },
     "execution_count": 116,
     "metadata": {},
     "output_type": "execute_result"
    }
   ],
   "source": [
    "l"
   ]
  },
  {
   "cell_type": "code",
   "execution_count": 117,
   "id": "8ee0d9a9",
   "metadata": {},
   "outputs": [],
   "source": [
    "l.extend(l1)"
   ]
  },
  {
   "cell_type": "code",
   "execution_count": 118,
   "id": "c6b1960c",
   "metadata": {},
   "outputs": [
    {
     "data": {
      "text/plain": [
       "[20.9,\n",
       " 'sirivella',\n",
       " 'suresh',\n",
       " 45,\n",
       " 4,\n",
       " 2,\n",
       " 1,\n",
       " [1, 2, 3, 45, 6, 'babu', [...]],\n",
       " 'end of file',\n",
       " 1,\n",
       " 2,\n",
       " 3,\n",
       " 45,\n",
       " 6,\n",
       " 'babu',\n",
       " [...]]"
      ]
     },
     "execution_count": 118,
     "metadata": {},
     "output_type": "execute_result"
    }
   ],
   "source": [
    "l"
   ]
  },
  {
   "cell_type": "code",
   "execution_count": 119,
   "id": "57c05334",
   "metadata": {},
   "outputs": [],
   "source": [
    "l = \"sirivella suresh babu\""
   ]
  },
  {
   "cell_type": "code",
   "execution_count": 123,
   "id": "92f9dc6c",
   "metadata": {},
   "outputs": [
    {
     "name": "stdout",
     "output_type": "stream",
     "text": [
      "sirivella\n",
      "suresh\n",
      "babu\n"
     ]
    }
   ],
   "source": [
    "for i in l.split():\n",
    "    print(i)"
   ]
  },
  {
   "cell_type": "code",
   "execution_count": 125,
   "id": "2d7b4594",
   "metadata": {},
   "outputs": [
    {
     "name": "stdout",
     "output_type": "stream",
     "text": [
      "[1, 4, 9, 16, 25, 36]\n"
     ]
    }
   ],
   "source": [
    "l = [1,2,3,4,5,6]\n",
    "l1 =[]\n",
    "for i in l:\n",
    "    l1.append(i**2)\n",
    "print(l1)"
   ]
  },
  {
   "cell_type": "code",
   "execution_count": 126,
   "id": "00361063",
   "metadata": {},
   "outputs": [
    {
     "data": {
      "text/plain": [
       "[1, 4, 9, 16, 25, 36]"
      ]
     },
     "execution_count": 126,
     "metadata": {},
     "output_type": "execute_result"
    }
   ],
   "source": [
    "#list conprehension \n",
    "[i**2 for i in l]"
   ]
  },
  {
   "cell_type": "code",
   "execution_count": 128,
   "id": "83ae6516",
   "metadata": {},
   "outputs": [
    {
     "data": {
      "text/plain": [
       "['s', 'u', 'r', 'e', 's', 'h']"
      ]
     },
     "execution_count": 128,
     "metadata": {},
     "output_type": "execute_result"
    }
   ],
   "source": [
    "s =\"suresh\"\n",
    "[i for i in s]"
   ]
  },
  {
   "cell_type": "code",
   "execution_count": 129,
   "id": "d8ac91ef",
   "metadata": {},
   "outputs": [],
   "source": [
    "#try to create a list with even and odd number of size 10 and perform element wise addition operatio"
   ]
  },
  {
   "cell_type": "code",
   "execution_count": 188,
   "id": "92f0100f",
   "metadata": {},
   "outputs": [
    {
     "data": {
      "text/plain": [
       "[7, 11, 15, 19, 23, 27, 31, 35, 39]"
      ]
     },
     "execution_count": 188,
     "metadata": {},
     "output_type": "execute_result"
    }
   ],
   "source": [
    "l1 = [i for i in range(1,20,2)]\n",
    "l2 = [i for i in range(2,21,2)]\n",
    "l3 = []\n",
    "for i in range(1,len(l1)):\n",
    "    l3.append(l1[i]+l2[i])\n",
    "l3"
   ]
  },
  {
   "cell_type": "code",
   "execution_count": 204,
   "id": "c14ec0a4",
   "metadata": {},
   "outputs": [
    {
     "data": {
      "text/plain": [
       "['suresh', 'sirivella', 'babu']"
      ]
     },
     "execution_count": 204,
     "metadata": {},
     "output_type": "execute_result"
    }
   ],
   "source": [
    "l=['suresh','sirivella','babu']\n",
    "[i for i in l]"
   ]
  },
  {
   "cell_type": "code",
   "execution_count": 205,
   "id": "20361d78",
   "metadata": {},
   "outputs": [
    {
     "data": {
      "text/plain": [
       "'Q1: Write a list of comphrahensive operation for generating \\nall the list of alphabatical charecters in upper and lower case.\\nQ2: Write a code for pelindrom by using while statement.\\nQ3: write a coce to sort your string in alphabatical order.\\n'"
      ]
     },
     "execution_count": 205,
     "metadata": {},
     "output_type": "execute_result"
    }
   ],
   "source": [
    "\"\"\"Q1: Write a list of comphrahensive operation for generating \n",
    "all the list of alphabatical charecters in upper and lower case.\n",
    "Q2: Write a code for pelindrom by using while statement.\n",
    "Q3: write a code to sort your string in alphabatical order.\n",
    "\"\"\""
   ]
  },
  {
   "cell_type": "code",
   "execution_count": 218,
   "id": "a816e408",
   "metadata": {},
   "outputs": [
    {
     "name": "stdout",
     "output_type": "stream",
     "text": [
      "SURESH\n",
      "SIRIVELLA\n",
      "BABU\n"
     ]
    }
   ],
   "source": [
    "for i in l: print(i.upper())\n"
   ]
  },
  {
   "cell_type": "code",
   "execution_count": 220,
   "id": "9fd9ecb9",
   "metadata": {},
   "outputs": [
    {
     "data": {
      "text/plain": [
       "'Comprehensions in Python provide us with a short and concise way to construct new sequences (such as lists, set, dictionary etc.) using sequences which have been already defined. Python supports the following 4 types of comprehensions:\\n\\nList Comprehensions\\nDictionary Comprehensions\\nSet Comprehensions\\nGenerator Comprehensions\\noutput_list = [output_exp for var in input_list if (var satisfies this condition)\\n'"
      ]
     },
     "execution_count": 220,
     "metadata": {},
     "output_type": "execute_result"
    }
   ],
   "source": [
    "\"\"\"Comprehensions in Python provide us with a short and concise way to construct new sequences (such as lists, set, dictionary etc.) using sequences which have been already defined. Python supports the following 4 types of comprehensions:\n",
    "\n",
    "List Comprehensions\n",
    "Dictionary Comprehensions\n",
    "Set Comprehensions\n",
    "Generator Comprehensions\n",
    "output_list = [output_exp for var in input_list if (var satisfies this condition)]\n",
    "\"\"\""
   ]
  },
  {
   "cell_type": "code",
   "execution_count": 223,
   "id": "9516623b",
   "metadata": {},
   "outputs": [
    {
     "data": {
      "text/plain": [
       "[0, 1, 2]"
      ]
     },
     "execution_count": 223,
     "metadata": {},
     "output_type": "execute_result"
    }
   ],
   "source": [
    "l =['suresh','sirivella',\"suri06005\"]\n",
    "[i for i in range(0,len(l))]"
   ]
  },
  {
   "cell_type": "code",
   "execution_count": null,
   "id": "adacfc32",
   "metadata": {},
   "outputs": [],
   "source": []
  },
  {
   "cell_type": "code",
   "execution_count": null,
   "id": "ed3f139a",
   "metadata": {},
   "outputs": [],
   "source": []
  },
  {
   "cell_type": "code",
   "execution_count": null,
   "id": "d5e97fbe",
   "metadata": {},
   "outputs": [],
   "source": []
  },
  {
   "cell_type": "code",
   "execution_count": null,
   "id": "fcbb0b74",
   "metadata": {},
   "outputs": [],
   "source": []
  },
  {
   "cell_type": "code",
   "execution_count": null,
   "id": "bddb85b9",
   "metadata": {},
   "outputs": [],
   "source": []
  }
 ],
 "metadata": {
  "kernelspec": {
   "display_name": "Python 3",
   "language": "python",
   "name": "python3"
  },
  "language_info": {
   "codemirror_mode": {
    "name": "ipython",
    "version": 3
   },
   "file_extension": ".py",
   "mimetype": "text/x-python",
   "name": "python",
   "nbconvert_exporter": "python",
   "pygments_lexer": "ipython3",
   "version": "3.8.8"
  }
 },
 "nbformat": 4,
 "nbformat_minor": 5
}
