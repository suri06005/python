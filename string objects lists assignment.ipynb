{
 "cells": [
  {
   "cell_type": "code",
   "execution_count": 37,
   "id": "51382ae4",
   "metadata": {},
   "outputs": [],
   "source": [
    "#1. Create the below pattern using nested for loop in Python.\n",
    "#*\n",
    "#* *\n",
    "#* * *\n",
    "#* * * *\n",
    "#* * * * *\n",
    "#* * * *\n",
    "#* * *\n",
    "#* *\n",
    "#*"
   ]
  },
  {
   "cell_type": "code",
   "execution_count": 39,
   "id": "aff12499",
   "metadata": {},
   "outputs": [
    {
     "name": "stdout",
     "output_type": "stream",
     "text": [
      "* \n",
      "* * \n",
      "* * * \n",
      "* * * * \n",
      "* * * * * \n",
      "* * * * \n",
      "* * * \n",
      "* * \n",
      "* \n"
     ]
    }
   ],
   "source": [
    "for i in range(1,5):\n",
    "    #print(\"#\")\n",
    "    for j in range(i):\n",
    "        print(\"* \",end='')\n",
    "    print(\"\")\n",
    "for i in range(5,0,-1):\n",
    "    #print(\"#\")\n",
    "    for j in range(i):\n",
    "        print(\"* \",end='')\n",
    "    print(\"\")"
   ]
  },
  {
   "cell_type": "code",
   "execution_count": null,
   "id": "120d7042",
   "metadata": {},
   "outputs": [],
   "source": []
  },
  {
   "cell_type": "code",
   "execution_count": 40,
   "id": "8e31a4d5",
   "metadata": {},
   "outputs": [
    {
     "data": {
      "text/plain": [
       "'#2. Write a Python program to reverse a word after accepting the input from the user.\\n#Sample Output:\\n#Input word: ineuron\\n#Output: norueni'"
      ]
     },
     "execution_count": 40,
     "metadata": {},
     "output_type": "execute_result"
    }
   ],
   "source": [
    "'''#2. Write a Python program to reverse a word after accepting the input from the user.\n",
    "#Sample Output:\n",
    "#Input word: ineuron\n",
    "#Output: norueni'''"
   ]
  },
  {
   "cell_type": "code",
   "execution_count": 54,
   "id": "d0201410",
   "metadata": {},
   "outputs": [
    {
     "name": "stdout",
     "output_type": "stream",
     "text": [
      "enter input you want to reverse: suresh\n",
      "Input word: suresh\n",
      "OutPut: hserus"
     ]
    }
   ],
   "source": [
    "in_word = list(input(\"enter input you want to reverse: \"))\n",
    "rev = in_word[-1::-1]\n",
    "print(\"Input word: \",end=\"\")\n",
    "for i in in_word:\n",
    "    print(i,end=\"\")\n",
    "print()\n",
    "print(\"OutPut: \",end=\"\")\n",
    "for i in rev:\n",
    "    print(i,end='')"
   ]
  },
  {
   "cell_type": "code",
   "execution_count": null,
   "id": "e0b0aa70",
   "metadata": {},
   "outputs": [],
   "source": []
  },
  {
   "cell_type": "code",
   "execution_count": null,
   "id": "514f4985",
   "metadata": {},
   "outputs": [],
   "source": []
  },
  {
   "cell_type": "code",
   "execution_count": null,
   "id": "df51bdd2",
   "metadata": {},
   "outputs": [],
   "source": []
  }
 ],
 "metadata": {
  "kernelspec": {
   "display_name": "Python 3",
   "language": "python",
   "name": "python3"
  },
  "language_info": {
   "codemirror_mode": {
    "name": "ipython",
    "version": 3
   },
   "file_extension": ".py",
   "mimetype": "text/x-python",
   "name": "python",
   "nbconvert_exporter": "python",
   "pygments_lexer": "ipython3",
   "version": "3.8.8"
  }
 },
 "nbformat": 4,
 "nbformat_minor": 5
}
