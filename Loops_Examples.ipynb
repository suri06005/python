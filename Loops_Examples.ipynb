{
 "cells": [
  {
   "cell_type": "code",
   "execution_count": 6,
   "id": "9f754d2b",
   "metadata": {},
   "outputs": [],
   "source": [
    "a = 10\n",
    "if a > 20:\n",
    "    print (\"test of if block\")\n",
    "elif a == 20:\n",
    "    print (\"a value is \")"
   ]
  },
  {
   "cell_type": "code",
   "execution_count": 10,
   "id": "8513b127",
   "metadata": {},
   "outputs": [
    {
     "name": "stdout",
     "output_type": "stream",
     "text": [
      "input value 100\n",
      "a value is greater than 10\n"
     ]
    }
   ],
   "source": [
    "#a = 10\n",
    "a = int(input(\"input value \"))\n",
    "if a > 10:\n",
    "    print (\"a value is greater than 10\")\n",
    "elif a < 10:\n",
    "    print(\"a value is less than 10\")\n",
    "else:\n",
    "    print(\"a value is equal to 10\")"
   ]
  },
  {
   "cell_type": "code",
   "execution_count": 15,
   "id": "26e6881a",
   "metadata": {},
   "outputs": [
    {
     "name": "stdout",
     "output_type": "stream",
     "text": [
      "enter discount in %10\n",
      "you can buy 3 row items\n"
     ]
    }
   ],
   "source": [
    "Discount = int(input(\"enter discount in %\"))\n",
    "if Discount == 50:\n",
    "    print(\"you can buy all items in row1\")\n",
    "elif Discount == 30:\n",
    "    print(\"you can buy row number 2\")\n",
    "elif Discount == 10:\n",
    "    print      (\"you can buy 3 row items\")\n",
    "else:\n",
    "    print (\"discount is not available for this\")"
   ]
  },
  {
   "cell_type": "code",
   "execution_count": 31,
   "id": "f473d2c2",
   "metadata": {},
   "outputs": [
    {
     "name": "stdout",
     "output_type": "stream",
     "text": [
      "enter income value3500\n",
      "income > 2000 or income < 5000:\n"
     ]
    }
   ],
   "source": [
    "income = int(input(\"enter income value\"))\n",
    "if income > 1000:\n",
    "    if income > 2000 and income < 3000:\n",
    "        print(\"income > 2000 and income < 5000:\")\n",
    "    elif income > 2000 and income < 5000:\n",
    "        print(\"income > 2000 and income < 5000:\")\n",
    "    elif income < 5000:\n",
    "        print(\"you will get 5000 card\")\n",
    "        if income > 2000 and income < 5000:\n",
    "            print (\"income > 2000 && income < 5000\")\n",
    "    else:\n",
    "        print (\"value in more than 2000 and more 5000\")"
   ]
  },
  {
   "cell_type": "code",
   "execution_count": 21,
   "id": "8323586e",
   "metadata": {},
   "outputs": [
    {
     "name": "stdout",
     "output_type": "stream",
     "text": [
      "for loop\n"
     ]
    }
   ],
   "source": [
    "print (\"for loop\")"
   ]
  },
  {
   "cell_type": "code",
   "execution_count": 24,
   "id": "e849d6b3",
   "metadata": {},
   "outputs": [],
   "source": [
    "l = [1,2,3,4,5]"
   ]
  },
  {
   "cell_type": "code",
   "execution_count": 25,
   "id": "fc1aaf0b",
   "metadata": {},
   "outputs": [
    {
     "name": "stdout",
     "output_type": "stream",
     "text": [
      "1\n",
      "2\n",
      "3\n",
      "4\n",
      "5\n"
     ]
    }
   ],
   "source": [
    "for i in l:\n",
    "    print(i)"
   ]
  },
  {
   "cell_type": "code",
   "execution_count": 32,
   "id": "548f53f2",
   "metadata": {},
   "outputs": [],
   "source": [
    "l =[\"suresh\",[1,2,2,3,4],(1,2,3,4,),True,1782,\"babu\"]"
   ]
  },
  {
   "cell_type": "code",
   "execution_count": 33,
   "id": "670b32ce",
   "metadata": {},
   "outputs": [
    {
     "name": "stdout",
     "output_type": "stream",
     "text": [
      "suresh\n",
      "[1, 2, 2, 3, 4]\n",
      "(1, 2, 3, 4)\n",
      "True\n",
      "1782\n",
      "babu\n"
     ]
    }
   ],
   "source": [
    "for i in l:\n",
    "    print(i)"
   ]
  },
  {
   "cell_type": "code",
   "execution_count": 38,
   "id": "fdf98524",
   "metadata": {},
   "outputs": [
    {
     "name": "stdout",
     "output_type": "stream",
     "text": [
      "suresh\n",
      "[1, 2, 2, 3, 4]\n",
      "babu\n",
      "['suresh', [1, 2, 2, 3, 4], (1, 2, 3, 4), True, 1782, 'babu']\n"
     ]
    }
   ],
   "source": [
    "for i in l:\n",
    "    if type(i) == str:\n",
    "        print(i)\n",
    "    if type(i) == list:\n",
    "        print(i)\n",
    "print(l)"
   ]
  },
  {
   "cell_type": "code",
   "execution_count": 42,
   "id": "41dbff83",
   "metadata": {},
   "outputs": [
    {
     "name": "stdout",
     "output_type": "stream",
     "text": [
      "2\n"
     ]
    }
   ],
   "source": [
    "for i in l:\n",
    "    if type(i) == list:\n",
    "        print(i[2])\n",
    "    "
   ]
  },
  {
   "cell_type": "code",
   "execution_count": 45,
   "id": "f2e96895",
   "metadata": {},
   "outputs": [
    {
     "name": "stdout",
     "output_type": "stream",
     "text": [
      "sirivella suresh babu\n",
      "sirivella suresh babu\n",
      "sirivella suresh babu\n",
      "sirivella suresh babu\n",
      "sirivella suresh babu\n",
      "sirivella suresh babu\n",
      "sirivella suresh babu\n",
      "sirivella suresh babu\n",
      "sirivella suresh babu\n",
      "sirivella suresh babu\n",
      "sirivella suresh babu\n",
      "sirivella suresh babu\n",
      "sirivella suresh babu\n",
      "sirivella suresh babu\n",
      "sirivella suresh babu\n",
      "sirivella suresh babu\n",
      "sirivella suresh babu\n",
      "sirivella suresh babu\n",
      "sirivella suresh babu\n",
      "sirivella suresh babu\n",
      "sirivella suresh babu\n"
     ]
    }
   ],
   "source": [
    "s = \"sirivella suresh babu\"\n",
    "for n in s:\n",
    "    print(s)"
   ]
  },
  {
   "cell_type": "code",
   "execution_count": 46,
   "id": "55934e18",
   "metadata": {},
   "outputs": [
    {
     "name": "stdout",
     "output_type": "stream",
     "text": [
      "s\n",
      "i\n",
      "r\n",
      "i\n",
      "v\n",
      "e\n",
      "l\n",
      "l\n",
      "a\n",
      " \n",
      "s\n",
      "u\n",
      "r\n",
      "e\n",
      "s\n",
      "h\n",
      " \n",
      "b\n",
      "a\n",
      "b\n",
      "u\n"
     ]
    }
   ],
   "source": [
    "for m in s:\n",
    "    print(m)"
   ]
  },
  {
   "cell_type": "code",
   "execution_count": 50,
   "id": "f0ec8049",
   "metadata": {},
   "outputs": [
    {
     "data": {
      "text/plain": [
       "(0, 1, 2, 3, 4, 5, 6, 7, 8, 9)"
      ]
     },
     "execution_count": 50,
     "metadata": {},
     "output_type": "execute_result"
    }
   ],
   "source": [
    "tuple(range(10))"
   ]
  },
  {
   "cell_type": "code",
   "execution_count": 56,
   "id": "9423a485",
   "metadata": {},
   "outputs": [
    {
     "name": "stdout",
     "output_type": "stream",
     "text": [
      "range(0, 5)\n"
     ]
    }
   ],
   "source": [
    "a = range(5)\n",
    "print(a)"
   ]
  },
  {
   "cell_type": "code",
   "execution_count": null,
   "id": "18993fbc",
   "metadata": {},
   "outputs": [],
   "source": []
  },
  {
   "cell_type": "code",
   "execution_count": 52,
   "id": "f48d3ab2",
   "metadata": {},
   "outputs": [
    {
     "data": {
      "text/plain": [
       "range(0, 10)"
      ]
     },
     "execution_count": 52,
     "metadata": {},
     "output_type": "execute_result"
    }
   ],
   "source": [
    "range(10)"
   ]
  },
  {
   "cell_type": "code",
   "execution_count": null,
   "id": "95bbda47",
   "metadata": {},
   "outputs": [],
   "source": []
  },
  {
   "cell_type": "code",
   "execution_count": 57,
   "id": "1865fdaa",
   "metadata": {},
   "outputs": [
    {
     "data": {
      "text/plain": [
       "[0, 1, 2, 3, 4, 5, 6, 7, 8, 9]"
      ]
     },
     "execution_count": 57,
     "metadata": {},
     "output_type": "execute_result"
    }
   ],
   "source": [
    "list(range(10))"
   ]
  },
  {
   "cell_type": "code",
   "execution_count": 59,
   "id": "3842690b",
   "metadata": {},
   "outputs": [
    {
     "name": "stdout",
     "output_type": "stream",
     "text": [
      "nested for loops\n"
     ]
    }
   ],
   "source": [
    "print(\"nested for loops\")"
   ]
  },
  {
   "cell_type": "code",
   "execution_count": 61,
   "id": "fb3af5b4",
   "metadata": {},
   "outputs": [],
   "source": [
    "ls = [list(range(10)),[12,3,3,4,5],\"ssafjl\",(range(5),True)]"
   ]
  },
  {
   "cell_type": "code",
   "execution_count": 62,
   "id": "60a92489",
   "metadata": {},
   "outputs": [
    {
     "data": {
      "text/plain": [
       "[[0, 1, 2, 3, 4, 5, 6, 7, 8, 9],\n",
       " [12, 3, 3, 4, 5],\n",
       " 'ssafjl',\n",
       " (range(0, 5), True)]"
      ]
     },
     "execution_count": 62,
     "metadata": {},
     "output_type": "execute_result"
    }
   ],
   "source": [
    "ls"
   ]
  },
  {
   "cell_type": "code",
   "execution_count": 68,
   "id": "02c886bd",
   "metadata": {},
   "outputs": [
    {
     "name": "stdout",
     "output_type": "stream",
     "text": [
      "first for loop\n",
      "first for loop\n",
      "first for loop\n",
      "s\n",
      "s\n",
      "a\n",
      "f\n",
      "j\n",
      "l\n",
      "first for loop\n",
      "range(0, 5)\n",
      "True\n"
     ]
    }
   ],
   "source": [
    "for i in ls:\n",
    "    print(\"first for loop\")\n",
    "    #print(i)\n",
    "    if type(i) == tuple:\n",
    "        for n in i:\n",
    "            print(n)\n",
    "    elif type(i) == str:\n",
    "        for m in i:\n",
    "            print(m)"
   ]
  },
  {
   "cell_type": "code",
   "execution_count": 78,
   "id": "970f0dac",
   "metadata": {},
   "outputs": [
    {
     "name": "stdout",
     "output_type": "stream",
     "text": [
      "*\n",
      "*\n",
      "*\n",
      "*\n",
      "*\n",
      "*\n",
      "*\n",
      "*\n",
      "*\n",
      "*\n",
      "*\n",
      "*\n",
      "*\n",
      "*\n",
      "*\n"
     ]
    }
   ],
   "source": [
    "n = 5\n",
    "for i in range(5):\n",
    "    #print(\"*\")\n",
    "    for m in range(i+1):\n",
    "        print(\"*\")"
   ]
  },
  {
   "cell_type": "code",
   "execution_count": 79,
   "id": "c3f2234d",
   "metadata": {},
   "outputs": [
    {
     "name": "stdout",
     "output_type": "stream",
     "text": [
      "***************"
     ]
    }
   ],
   "source": [
    "n = 5\n",
    "for i in range(5):\n",
    "    #print(\"*\")\n",
    "    for m in range(i+1):\n",
    "        print(\"*\", end = \"\")"
   ]
  },
  {
   "cell_type": "code",
   "execution_count": 88,
   "id": "dc4b6b80",
   "metadata": {},
   "outputs": [
    {
     "name": "stdout",
     "output_type": "stream",
     "text": [
      "*\n",
      "**\n",
      "***\n",
      "****\n",
      "*****\n"
     ]
    }
   ],
   "source": [
    "n = 5\n",
    "for i in range(n):\n",
    "    #print(\"*\")\n",
    "    for m in range(i+1):\n",
    "        print(\"*\", end = \"\")\n",
    "    print(\"\")"
   ]
  },
  {
   "cell_type": "code",
   "execution_count": 93,
   "id": "b45367ba",
   "metadata": {},
   "outputs": [
    {
     "name": "stdout",
     "output_type": "stream",
     "text": [
      "please enter value to generate pyramid10\n",
      "*\n",
      "**\n",
      "***\n",
      "****\n",
      "*****\n",
      "******\n",
      "*******\n",
      "********\n",
      "*********\n",
      "**********\n"
     ]
    }
   ],
   "source": [
    "m = int(input(\"please enter value to generate pyramid\"))\n",
    "for i in range(m):\n",
    "    #print(i)\n",
    "    for n in range(i+1):\n",
    "        print(\"*\", end = \"\")\n",
    "    print(\"\")"
   ]
  },
  {
   "cell_type": "code",
   "execution_count": 99,
   "id": "5f31c814",
   "metadata": {},
   "outputs": [
    {
     "name": "stdout",
     "output_type": "stream",
     "text": [
      "0001234\n",
      "101234\n",
      "201234\n",
      "301234\n",
      "401234\n",
      "\n",
      "1001234\n",
      "101234\n",
      "201234\n",
      "301234\n",
      "401234\n",
      "\n",
      "2001234\n",
      "101234\n",
      "201234\n",
      "301234\n",
      "401234\n",
      "\n",
      "3001234\n",
      "101234\n",
      "201234\n",
      "301234\n",
      "401234\n",
      "\n",
      "4001234\n",
      "101234\n",
      "201234\n",
      "301234\n",
      "401234\n",
      "\n"
     ]
    }
   ],
   "source": [
    "a = 5\n",
    "for i in range(a):\n",
    "    print(i, end=\"\")\n",
    "    for j in range(a):\n",
    "        print(j, end=\"\")\n",
    "        for k in range(a):\n",
    "            print(k, end=\"\")\n",
    "        print(\"\")\n",
    "    print(\"\")"
   ]
  },
  {
   "cell_type": "code",
   "execution_count": null,
   "id": "5ac1d2b0",
   "metadata": {},
   "outputs": [],
   "source": []
  },
  {
   "cell_type": "code",
   "execution_count": null,
   "id": "0d5ef238",
   "metadata": {},
   "outputs": [],
   "source": []
  },
  {
   "cell_type": "code",
   "execution_count": null,
   "id": "6fb8a938",
   "metadata": {},
   "outputs": [],
   "source": []
  },
  {
   "cell_type": "code",
   "execution_count": null,
   "id": "ac66fc63",
   "metadata": {},
   "outputs": [],
   "source": []
  },
  {
   "cell_type": "code",
   "execution_count": null,
   "id": "7c878cc3",
   "metadata": {},
   "outputs": [],
   "source": []
  },
  {
   "cell_type": "code",
   "execution_count": null,
   "id": "f88a7531",
   "metadata": {},
   "outputs": [],
   "source": []
  },
  {
   "cell_type": "code",
   "execution_count": null,
   "id": "ab465e54",
   "metadata": {},
   "outputs": [],
   "source": []
  },
  {
   "cell_type": "code",
   "execution_count": null,
   "id": "9a2e69fd",
   "metadata": {},
   "outputs": [],
   "source": []
  },
  {
   "cell_type": "code",
   "execution_count": null,
   "id": "9fb1a1e6",
   "metadata": {},
   "outputs": [],
   "source": []
  },
  {
   "cell_type": "code",
   "execution_count": null,
   "id": "fe5a74ff",
   "metadata": {},
   "outputs": [],
   "source": []
  },
  {
   "cell_type": "code",
   "execution_count": null,
   "id": "ab6a7cbf",
   "metadata": {},
   "outputs": [],
   "source": []
  },
  {
   "cell_type": "code",
   "execution_count": null,
   "id": "d97cb02a",
   "metadata": {},
   "outputs": [],
   "source": []
  },
  {
   "cell_type": "code",
   "execution_count": null,
   "id": "766990a7",
   "metadata": {},
   "outputs": [],
   "source": []
  },
  {
   "cell_type": "code",
   "execution_count": null,
   "id": "fce58fce",
   "metadata": {},
   "outputs": [],
   "source": []
  },
  {
   "cell_type": "code",
   "execution_count": null,
   "id": "e3725c96",
   "metadata": {},
   "outputs": [],
   "source": []
  },
  {
   "cell_type": "code",
   "execution_count": null,
   "id": "7da4c5a2",
   "metadata": {},
   "outputs": [],
   "source": []
  },
  {
   "cell_type": "code",
   "execution_count": null,
   "id": "da219659",
   "metadata": {},
   "outputs": [],
   "source": []
  },
  {
   "cell_type": "code",
   "execution_count": null,
   "id": "d982b867",
   "metadata": {},
   "outputs": [],
   "source": []
  },
  {
   "cell_type": "code",
   "execution_count": null,
   "id": "dae8c1ea",
   "metadata": {},
   "outputs": [],
   "source": []
  },
  {
   "cell_type": "code",
   "execution_count": null,
   "id": "5367bf8a",
   "metadata": {},
   "outputs": [],
   "source": []
  },
  {
   "cell_type": "code",
   "execution_count": null,
   "id": "7f978402",
   "metadata": {},
   "outputs": [],
   "source": []
  },
  {
   "cell_type": "code",
   "execution_count": null,
   "id": "075d857d",
   "metadata": {},
   "outputs": [],
   "source": []
  },
  {
   "cell_type": "code",
   "execution_count": null,
   "id": "758919fe",
   "metadata": {},
   "outputs": [],
   "source": []
  },
  {
   "cell_type": "code",
   "execution_count": null,
   "id": "5419cb3e",
   "metadata": {},
   "outputs": [],
   "source": []
  }
 ],
 "metadata": {
  "kernelspec": {
   "display_name": "Python 3",
   "language": "python",
   "name": "python3"
  },
  "language_info": {
   "codemirror_mode": {
    "name": "ipython",
    "version": 3
   },
   "file_extension": ".py",
   "mimetype": "text/x-python",
   "name": "python",
   "nbconvert_exporter": "python",
   "pygments_lexer": "ipython3",
   "version": "3.8.8"
  }
 },
 "nbformat": 4,
 "nbformat_minor": 5
}
